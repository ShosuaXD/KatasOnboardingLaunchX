{
 "cells": [
  {
   "cell_type": "markdown",
   "metadata": {},
   "source": [
    "# Modulo 7 Kata\n",
    "\n",
    "Elaborado por: Santillan Garcia Josue"
   ]
  },
  {
   "cell_type": "markdown",
   "metadata": {},
   "source": [
    "# Ejercicio 1: Creación de un bucle \"while\"\n",
    "\n",
    "Comienza agregando dos variables, una para la entrada del usuario, con el nombre new_planet, y otra variable para la lista de planetas, denominada planets\n",
    "\n",
    "Comenzando con las variables que acabas de crear, crearás un ciclo while. El ciclo while se ejecutará mientras el new_planet no sea igual a la palabra 'done'.\n",
    "\n",
    "Dentro del ciclo, comprobarás si la variable new_planet contiene un valor, que debería ser el nombre de un planeta. Esta es una forma rápida de ver si el usuario ha introducido un valor. Si lo han hecho, tu código agregará (append) ese valor a la variable planets.\n",
    "\n",
    "Finalmente, usarás input para solicitar al usuario que ingrese un nuevo nombre de planeta o que escriba done si ha terminado de ingresar nombres de planeta. Almacenará el valor de input en la variable new_planet."
   ]
  },
  {
   "cell_type": "code",
   "execution_count": 1,
   "metadata": {},
   "outputs": [],
   "source": [
    "# Creamos las variables que contentran la lista de los planetas y el planeta ingresado por el usuario\n",
    "new_planet = ''\n",
    "planets = []"
   ]
  },
  {
   "cell_type": "code",
   "execution_count": 2,
   "metadata": {},
   "outputs": [],
   "source": [
    "# El ciclo while se encarga de que se termine el ciclo cuando el usuario escriba 'done'\n",
    "while new_planet.lower() != 'done':\n",
    "    # Verificamos si la variable, asociada a los planetas agregados, tiene contenido(true) o esta vacio(false)\n",
    "    if new_planet:\n",
    "        # Agregamos al final de la lista el planeta dado por el usuario\n",
    "        planets.append(new_planet)\n",
    "    # Pedimos al usuario que escriba el planeta que desee agregar\n",
    "    new_planet = input(\"Dame el nombre de algun planeta, para terminar el programa escribe 'done': \")"
   ]
  },
  {
   "cell_type": "markdown",
   "metadata": {},
   "source": [
    "# Ejercicio 2: Creación de un ciclo \"for\"\n",
    "\n",
    " En este ejercicio, completarás la aplicación escribiendo código que muestre los nombres de esos planetas.\n",
    " \n",
    " La variable planets almacena los nombres de planeta que ha introducido un usuario. Ahora usarás un ciclo para mostrar esas entradas.\n",
    "\n",
    "Crea un ciclo for para iterar sobre la lista planets. Puedes usar como nombre de la variable planet para cada planeta. Dentro del ciclo for, recuerda utilizar print para mostrar cada planet."
   ]
  },
  {
   "cell_type": "code",
   "execution_count": 3,
   "metadata": {},
   "outputs": [
    {
     "name": "stdout",
     "output_type": "stream",
     "text": [
      "La lista de los planetas es la siguiente: \n",
      "mercurio\n",
      "venus\n",
      "tierra\n",
      "marte\n",
      "jupiter\n",
      "saturno\n",
      "urano\n"
     ]
    }
   ],
   "source": [
    "print(\"La lista de los planetas dados es la siguiente: \")\n",
    "# Utilizamos el ciclo for para recorrer e imprimir los planetas de la lista 'planets'\n",
    "for planetas in planets:\n",
    "    print(planetas)"
   ]
  }
 ],
 "metadata": {
  "interpreter": {
   "hash": "8dfbc7356785231493384fb45409583ec31b5e29d809114613eef3ad3986fd8e"
  },
  "kernelspec": {
   "display_name": "Python 3.10.2 64-bit",
   "language": "python",
   "name": "python3"
  },
  "language_info": {
   "codemirror_mode": {
    "name": "ipython",
    "version": 3
   },
   "file_extension": ".py",
   "mimetype": "text/x-python",
   "name": "python",
   "nbconvert_exporter": "python",
   "pygments_lexer": "ipython3",
   "version": "3.10.2"
  },
  "orig_nbformat": 4
 },
 "nbformat": 4,
 "nbformat_minor": 2
}
