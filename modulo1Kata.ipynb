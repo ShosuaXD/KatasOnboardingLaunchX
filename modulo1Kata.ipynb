{
 "cells": [
  {
   "cell_type": "markdown",
   "metadata": {},
   "source": [
    "## Kata del Modulo 1\n",
    "\n",
    "Elaborado por Josue Santillan Garcia"
   ]
  },
  {
   "cell_type": "markdown",
   "metadata": {},
   "source": [
    "Tu primer programa"
   ]
  },
  {
   "cell_type": "code",
   "execution_count": 2,
   "metadata": {},
   "outputs": [
    {
     "name": "stdout",
     "output_type": "stream",
     "text": [
      "Today's date is: 2022-02-09\n"
     ]
    }
   ],
   "source": [
    "# importamos la biblioteca \n",
    "from datetime import date\n",
    "\n",
    "# Cocatenamos la cadena con la converticion a cadena de la fecha de hoy\n",
    "print(\"Today's date is: \" + str(date.today()))"
   ]
  },
  {
   "cell_type": "markdown",
   "metadata": {},
   "source": [
    "Convertidor de unidades."
   ]
  },
  {
   "cell_type": "code",
   "execution_count": 6,
   "metadata": {},
   "outputs": [
    {
     "name": "stdout",
     "output_type": "stream",
     "text": [
      "11 parsecs, is 35.877159999999996 lightyears\n"
     ]
    }
   ],
   "source": [
    "# definimos la variable asociada a la cantidad de parsecs\n",
    "parsec = input(\"Cuanto parsecs vamos a convertir en anios luz: \")\n",
    "# Definimos la variable asociada a la cantidad de anios luz de un parsec\n",
    "lightyears = float(parsec) * 3.26156 # 1 parsec = 3.26156 anios luz, ademas convetirmos los numeros enteros en flotantes\n",
    "# Mostramos el resultado de la operacion\n",
    "print(str(parsec) + \" parsecs, is \" + str(lightyears) + \" lightyears\")\n"
   ]
  }
 ],
 "metadata": {
  "interpreter": {
   "hash": "8dfbc7356785231493384fb45409583ec31b5e29d809114613eef3ad3986fd8e"
  },
  "kernelspec": {
   "display_name": "Python 3.10.2 64-bit",
   "language": "python",
   "name": "python3"
  },
  "language_info": {
   "codemirror_mode": {
    "name": "ipython",
    "version": 3
   },
   "file_extension": ".py",
   "mimetype": "text/x-python",
   "name": "python",
   "nbconvert_exporter": "python",
   "pygments_lexer": "ipython3",
   "version": "3.10.2"
  },
  "orig_nbformat": 4
 },
 "nbformat": 4,
 "nbformat_minor": 2
}
