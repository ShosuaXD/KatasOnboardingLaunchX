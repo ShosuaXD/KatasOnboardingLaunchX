{
 "cells": [
  {
   "cell_type": "markdown",
   "metadata": {},
   "source": [
    "# Modulo 8 Kata\n",
    "\n",
    "Elaborado por: Santillan Garcia Josue"
   ]
  },
  {
   "cell_type": "markdown",
   "metadata": {},
   "source": [
    "# Ejercicio 1: Creación de diccionarios de Python\n",
    "\n",
    "Agrega el código para crear un nuevo diccionario denominado 'planet'. Rellena con la siguiente información:\n",
    "\n",
    "name: Mars\n",
    "\n",
    "moons: 2\n",
    "\n",
    "Para recuperar valores, puede utilizar el método get o corchetes ([ ]) con el nombre de la clave que desea recuperar.\n",
    "\n",
    "Agrega un nuevo valor con una clave de 'circunferencia (km)'. Este nuevo valor debería almacenar un diccionario con las dos circunferencias del planeta:\n",
    "\n",
    "polar: 6752\n",
    "\n",
    "equatorial: 6792\n",
    "\n",
    "Imprime el nombre del planeta con su circunferencia polar."
   ]
  },
  {
   "cell_type": "code",
   "execution_count": 1,
   "metadata": {},
   "outputs": [],
   "source": [
    "# Creamos el diccionario sobre el planeta marte\n",
    "planet = {'name':'Mars', 'moons': 2}"
   ]
  },
  {
   "cell_type": "code",
   "execution_count": 4,
   "metadata": {},
   "outputs": [
    {
     "name": "stdout",
     "output_type": "stream",
     "text": [
      "El planeta: Mars tiene 2 lunas\n"
     ]
    }
   ],
   "source": [
    "# Imprimimos los datos del planeta del diccionario\n",
    "print(f'El planeta: {planet[\"name\"]} tiene {planet[\"moons\"]} lunas')"
   ]
  },
  {
   "cell_type": "code",
   "execution_count": 7,
   "metadata": {},
   "outputs": [],
   "source": [
    "# Agregamos un nuevo valor al diccionario\n",
    "planet['circunferencia (km)'] = {'polar':'6752', 'equatorial':'6792'}"
   ]
  },
  {
   "cell_type": "code",
   "execution_count": 9,
   "metadata": {},
   "outputs": [
    {
     "name": "stdout",
     "output_type": "stream",
     "text": [
      "El planeta Mars tiene 2 lunas y cuya circunferencia polar es: 6752 [km]\n"
     ]
    }
   ],
   "source": [
    "# Comprobamos que el nuevo valor fue agregado exitosamente\n",
    "print(f'El planeta {planet[\"name\"]} tiene {planet[\"moons\"]} lunas y cuya circunferencia polar es: {planet[\"circunferencia (km)\"][\"polar\"]} [km]')"
   ]
  },
  {
   "cell_type": "markdown",
   "metadata": {},
   "source": [
    "# Ejercicio 2: Programación dinámica con diccionarios\n",
    "\n",
    "Comienza almacenando el valor values de planet_moons en una variable denominada moons. A continuación, almacena el número de planetas en una variable denominada planets.\n",
    "\n",
    "Despues crea un ciclo for para iterar a través de las lunas moons y agregándolos a una variable denominada total_moons. Finalmente calcule el promedio dividiendo total_moons por planets e imprimiendo los resultados."
   ]
  },
  {
   "cell_type": "code",
   "execution_count": 13,
   "metadata": {},
   "outputs": [
    {
     "name": "stdout",
     "output_type": "stream",
     "text": [
      "[0, 0, 1, 2, 79, 82, 27, 14, 5, 2, 1, 1]\n",
      "12\n"
     ]
    }
   ],
   "source": [
    "# Creamos una nueva lista de las lunas de los planetas\n",
    "planet_moons = {\n",
    "    'mercury': 0,\n",
    "    'venus': 0,\n",
    "    'earth': 1,\n",
    "    'mars': 2,\n",
    "    'jupiter': 79,\n",
    "    'saturn': 82,\n",
    "    'uranus': 27,\n",
    "    'neptune': 14,\n",
    "    'pluto': 5,\n",
    "    'haumea': 2,\n",
    "    'makemake': 1,\n",
    "    'eris': 1\n",
    "}\n",
    "# Creamos una nueva variable que almacena en una lista el numero de lunas de los planetas\n",
    "moons = list(planet_moons.values())\n",
    "# Creamos una nueva variable que almacena el numero de planetas del diccionario\n",
    "planets = len(planet_moons.keys())\n",
    "# Comprobamos que las variables hallan almacenado correctamente los datos\n",
    "print(moons)\n",
    "print(planets)"
   ]
  },
  {
   "cell_type": "code",
   "execution_count": 14,
   "metadata": {},
   "outputs": [
    {
     "name": "stdout",
     "output_type": "stream",
     "text": [
      "El promedio de las lunas es: 17.833333333333332\n"
     ]
    }
   ],
   "source": [
    "# Creamos una variable que almacenara la cantidad de lunas del diccionario\n",
    "total_moons = 0\n",
    "# Este ciclo nos permitira recorre la lista de numero de lunas\n",
    "for lunas in moons:\n",
    "    # Vamos acumulando la cantidad de lunas de la lista en la variable 'total_moons'\n",
    "    total_moons = total_moons + lunas\n",
    "# Calculamos el promedio del total de lunas y la cantidad de planetas\n",
    "promedio = float(total_moons)/float(planets)\n",
    "# Imprimimos el promedio \n",
    "print(\"El promedio de las lunas es: \" + str(promedio))"
   ]
  }
 ],
 "metadata": {
  "interpreter": {
   "hash": "8dfbc7356785231493384fb45409583ec31b5e29d809114613eef3ad3986fd8e"
  },
  "kernelspec": {
   "display_name": "Python 3.10.2 64-bit",
   "language": "python",
   "name": "python3"
  },
  "language_info": {
   "codemirror_mode": {
    "name": "ipython",
    "version": 3
   },
   "file_extension": ".py",
   "mimetype": "text/x-python",
   "name": "python",
   "nbconvert_exporter": "python",
   "pygments_lexer": "ipython3",
   "version": "3.10.2"
  },
  "orig_nbformat": 4
 },
 "nbformat": 4,
 "nbformat_minor": 2
}
