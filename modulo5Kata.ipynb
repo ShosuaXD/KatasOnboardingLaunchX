{
 "cells": [
  {
   "cell_type": "markdown",
   "metadata": {},
   "source": [
    "## Modulo 5 kata\n",
    "\n",
    "Elaborado por: Santillan Garcia Josue"
   ]
  },
  {
   "cell_type": "markdown",
   "metadata": {},
   "source": [
    "# Ejercicio 1: Utilizar operadores aritmeticos\n",
    "\n",
    "Crear variables para almacenar las dos distancias\n",
    "\n",
    "Restarás el primer planeta del segundo para determinar la distancia en kilómetros. A continuación, puedes convertir la distancia del kilómetro en millas multiplicándola por 0.621."
   ]
  },
  {
   "cell_type": "code",
   "execution_count": 1,
   "metadata": {},
   "outputs": [],
   "source": [
    "# Declaramos las variables asociadas a las distancias de los planetas con respecto al sol\n",
    "distanciaTierra = 149597870\n",
    "distanciaJupiter = 778547200"
   ]
  },
  {
   "cell_type": "code",
   "execution_count": 4,
   "metadata": {},
   "outputs": [
    {
     "name": "stdout",
     "output_type": "stream",
     "text": [
      "La distancia entre los la tierra y jupiter es: 628949330 km\n",
      "La distancia entre los la tierra y jupiter es: 390577534 millas\n"
     ]
    }
   ],
   "source": [
    "# Calculamos la distancia absoluta entre los dos planetas\n",
    "distanciaEntrePlanetas = abs(distanciaTierra - distanciaJupiter)\n",
    "# Mostramos en pantalla la distancia entre la tierra y jupiter en km\n",
    "print(\"La distancia entre los la tierra y jupiter es: \" + str(distanciaEntrePlanetas) + \" km\")\n",
    "# Mostramos en pantalla la distancia entre la tierra y jupiter en millas, multiplicando la distancia en kilometros por 0.621\n",
    "print(\"La distancia entre los la tierra y jupiter es: \" + str(round(distanciaEntrePlanetas * 0.621)) + \" millas\")"
   ]
  },
  {
   "cell_type": "markdown",
   "metadata": {},
   "source": [
    "# Ejercicio 2: convierte cadenas en números y usa valores absolutos\n",
    "\n",
    "Para crear nuestra aplicación, queremos leer la distancia del sol para dos planetas, y luego mostrar la distancia entre los planetas. Haremos esto usando input para leer los valores, int para convertir a entero y luego abs para convertir el resultado en su valor absoluto.\n",
    "\n",
    "Usando input, agrega el código para leer la distancia del sol para cada planeta, considerando 2 planetas.\n",
    "\n",
    "Despues debido a que input devuelve valores de cadena, necesitamos convertirlos en números. Para nuestro ejemplo, usaremos int\n",
    "\n",
    "Con los valores almacenados como números, ahora puedes agregar el código para realizar el cálculo, restando el primer planeta del segundo. Debido a que el segundo planeta podría ser un número mayor, usarás abs para convertirlo a un valor absoluto. También agregarás el código para mostrar el resultado en millas multiplicando la distancia del kilómetro por 0.621"
   ]
  },
  {
   "cell_type": "code",
   "execution_count": 6,
   "metadata": {},
   "outputs": [
    {
     "name": "stdout",
     "output_type": "stream",
     "text": [
      "La distancia entre los planetas dados en km es:  50300000\n",
      "La distancia entre los planetas dados en millas es:  31236300.0\n"
     ]
    }
   ],
   "source": [
    "# Solicitamos que el usuario ingrese las distancias, con respecto al sol, de los planetas\n",
    "primerPlaneta = input(\"Dame la distancia del sol para primer planeta en km: \")\n",
    "segundoPlaneta = input(\"Dame la distancia del sol para el segundo planeta en km: \")\n",
    "# Como la entrada del teclado se considera como cadena de caracteres (string), los convertimos a valores enteros (int)\n",
    "primerPlanetaNumero = int(primerPlaneta)\n",
    "segundoPlanetaNumero = int(segundoPlaneta)\n",
    "# Realizamos la resta de las distancias de los planetas, para obtener su distancia\n",
    "distancia_entre_planetas = primerPlanetaNumero - segundoPlanetaNumero\n",
    "# Mostramos en pantalla las distancia (tanto en km como millas)\n",
    "print(\"La distancia entre los planetas dados en km es: \", abs(distancia_entre_planetas))\n",
    "print(\"La distancia entre los planetas dados en millas es: \", abs(distancia_entre_planetas * 0.621))"
   ]
  }
 ],
 "metadata": {
  "interpreter": {
   "hash": "8dfbc7356785231493384fb45409583ec31b5e29d809114613eef3ad3986fd8e"
  },
  "kernelspec": {
   "display_name": "Python 3.10.2 64-bit",
   "language": "python",
   "name": "python3"
  },
  "language_info": {
   "codemirror_mode": {
    "name": "ipython",
    "version": 3
   },
   "file_extension": ".py",
   "mimetype": "text/x-python",
   "name": "python",
   "nbconvert_exporter": "python",
   "pygments_lexer": "ipython3",
   "version": "3.10.2"
  },
  "orig_nbformat": 4
 },
 "nbformat": 4,
 "nbformat_minor": 2
}
