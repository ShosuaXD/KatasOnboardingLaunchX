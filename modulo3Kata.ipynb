{
 "cells": [
  {
   "cell_type": "markdown",
   "metadata": {},
   "source": [
    "## Modulo 3 kata\n",
    "\n",
    "Elaborado por: Santillan Garcia Josue"
   ]
  },
  {
   "cell_type": "markdown",
   "metadata": {},
   "source": [
    "# Ejercicio 1:\n",
    "Añadir el código necesario para crear una variable que guarde la velocidad del asteroide.\n",
    "\n",
    "Escribe una expresión de prueba para calcular si necesita una advertencia.\n",
    "\n",
    "Agregue las instrucciones que se ejecutarán si la expresión de prueba es true o false."
   ]
  },
  {
   "cell_type": "code",
   "execution_count": 2,
   "metadata": {},
   "outputs": [
    {
     "name": "stdout",
     "output_type": "stream",
     "text": [
      "¡Alerta: un asteroide se acerca a la tierra!\n"
     ]
    }
   ],
   "source": [
    "# variable para almacenar la velocidad de la tierra\n",
    "velocidadAsteroide = input(\"A que velocidad va el asteriode, en km/s: \")\n",
    "# condicion que evalua la velocidad del asteoride con la velocidad alarmante, que es de 25 km/s.\n",
    "if float(velocidadAsteroide) > 25.0:\n",
    "    # Imprime este mensaje de alerta si la velocidad excede la establecida\n",
    "    print(\"¡Alerta: un asteroide se acerca a la tierra!\")\n",
    "else:\n",
    "    # Imprime este mensaje indicando que la tierra esta a salvo\n",
    "    print(\"¡La tierra esta a salvo!\")"
   ]
  },
  {
   "cell_type": "markdown",
   "metadata": {},
   "source": [
    "Agrega el código para crear una variable para un asteroide que viaja a 19 km/s\n",
    "\n",
    "Escribe varias expresiones de prueba para determinar si puedes ver el rayo de luz desde la tierra\n",
    "\n",
    "Agrega las instrucciones que se ejecutarán si las expresiones de prueba son True o False"
   ]
  },
  {
   "cell_type": "code",
   "execution_count": 3,
   "metadata": {},
   "outputs": [
    {
     "name": "stdout",
     "output_type": "stream",
     "text": [
      "El cielo esta despejado\n",
      "¡Alerta: se acerca un asteroide ahora con una velocidad de: 19.0km/s\n"
     ]
    }
   ],
   "source": [
    "# Variable que representa la velocidad del asteroide\n",
    "velocidadAsteroide = 19.0\n",
    "# Sentencia if que verifica si el asteroide se puede observar\n",
    "if velocidadAsteroide >= 20.0:\n",
    "    # Si el asteroide supera o es igual a la velocidad de 20 [km/s], entonce se despliega el mensaje de que se puede observar una luz en el cielo\n",
    "    print(\"¡Salgan todos a fuera, se puede observar una luz en el cielo\")\n",
    "else:\n",
    "    # Si el asteroide no supera la velocidad de 20[km/s], entonces se despliega un mensaje de tranquilidad\n",
    "    print(\"El cielo esta despejado\")\n",
    "# Se notifica la velocidad a la que el asteroide viaja.\n",
    "print(\"¡Alerta: se acerca un asteroide ahora con una velocidad de: \" + str(velocidadAsteroide) + \"km/s\")"
   ]
  },
  {
   "cell_type": "markdown",
   "metadata": {},
   "source": [
    "# Ejercicio 2\n",
    "Agrega el código para crear nuevas variables para la velocidad y el tamaño del asteroide\n",
    "\n",
    "Para probar el código, prueba con varias velocidades y tamaños\n",
    "\n",
    "Escribe varias expresiones de prueba o combinaciones de expresiones de prueba para determinar qué mensaje se debe enviar a Tierra."
   ]
  },
  {
   "cell_type": "code",
   "execution_count": 8,
   "metadata": {},
   "outputs": [
    {
     "name": "stdout",
     "output_type": "stream",
     "text": [
      "Todo esta normal\n"
     ]
    }
   ],
   "source": [
    "# Variable que almacena la velocidad del asteoride detectado\n",
    "velocidadAsteroide = input(\"Dame la velocidad del asteriode detectado, en km/s: \")\n",
    "# Variable que almacena las dimensiones del asteroide detectado\n",
    "tamanioAsteroide = input(\"Dame el tamanio del asteroide, en m: \")\n",
    "# Verificacion de las variable asociadas a la velocidad y dimension del asteroide\n",
    "if float(velocidadAsteroide) > 25.0 and float(tamanioAsteroide) > 25.0:\n",
    "    # Si el asteroide viaja a mas de 25 [km/s] y sus dimensiones son superiores a 25 [m], entonces desplega el mensaje de alerta\n",
    "    print(\"¡Alerta: se acerca un asteroide peligroso a la tierra!\")\n",
    "elif float(velocidadAsteroide) >= 20.0:\n",
    "    # Si el asteroide viaja a mas de 20 [km/s] pero sus dimensiones son menores a 25 [m], entonces despliega el mensaje de aviso\n",
    "    print(\"Tenemos la presencia de una luz en el cielo.\")\n",
    "elif float(tamanioAsteroide) < 25.0:\n",
    "    # Si el asteroide viaja a una velocidad menor a 20 [km/s] pero las dimensiones son menores a 25 [m], despliega el mensaje de tranquilidad.\n",
    "    print(\"Asteroide no amenazante, todo esta normal\")\n",
    "else:\n",
    "    # Si no se cumplen con las condiciones establecidad, entonces la tierra esta a salvo\n",
    "    print(\"Todo esta normal\")"
   ]
  }
 ],
 "metadata": {
  "interpreter": {
   "hash": "8dfbc7356785231493384fb45409583ec31b5e29d809114613eef3ad3986fd8e"
  },
  "kernelspec": {
   "display_name": "Python 3.10.2 64-bit",
   "language": "python",
   "name": "python3"
  },
  "language_info": {
   "codemirror_mode": {
    "name": "ipython",
    "version": 3
   },
   "file_extension": ".py",
   "mimetype": "text/x-python",
   "name": "python",
   "nbconvert_exporter": "python",
   "pygments_lexer": "ipython3",
   "version": "3.10.2"
  },
  "orig_nbformat": 4
 },
 "nbformat": 4,
 "nbformat_minor": 2
}
