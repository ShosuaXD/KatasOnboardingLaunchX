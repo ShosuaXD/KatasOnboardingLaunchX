{
 "cells": [
  {
   "cell_type": "markdown",
   "metadata": {},
   "source": [
    "# Modulo 9 Kata\n",
    "\n",
    "Elaborado por: Santillan Garcia Josue"
   ]
  },
  {
   "cell_type": "markdown",
   "metadata": {},
   "source": [
    "# Ejercicio 1: Trabajar con argumentos en funciones\n",
    "\n",
    "Comienza por crear una función que necesite tres lecturas de combustible y devuelva un informe\n",
    "\n",
    "Ahora que hemos definido la función de informes, vamos a comprobarlo.\n",
    "\n",
    "En lugar de simplemente crear el informe, la función también está calculando el promedio. Mejora la legibilidad extrayendo el cálculo promedio de la función en una nueva función para que el promedio se pueda hacer de forma independiente.\n",
    "\n",
    "Ahora actualiza la función de informes para llamando a la nueva función del promedio:"
   ]
  },
  {
   "cell_type": "code",
   "execution_count": 15,
   "metadata": {},
   "outputs": [],
   "source": [
    "# Declaramos la funcion asociada a los datos relevantes de la mision en cuanto a combustible.\n",
    "def informeCombustible(tanque1, tanque2, tanque3):\n",
    "    promedioTanques = (tanque1 + tanque2 + tanque3)/3\n",
    "    return f\"\"\"\n",
    "    Informe de los tanques:\n",
    "    Promedio de gasolina: {promedioTanques}%\n",
    "    Cantidad del tanque 1: {tanque1}%\n",
    "    Cantidad del tanque 2: {tanque2}%\n",
    "    Cantidad del tanque 3: {tanque3}%\"\"\""
   ]
  },
  {
   "cell_type": "code",
   "execution_count": 16,
   "metadata": {},
   "outputs": [
    {
     "name": "stdout",
     "output_type": "stream",
     "text": [
      "\n",
      "    Informe de los tanques:\n",
      "    Promedio de gasolina: 73.33333333333333%\n",
      "    Cantidad del tanque 1: 100%\n",
      "    Cantidad del tanque 2: 50%\n",
      "    Cantidad del tanque 3: 70%\n"
     ]
    }
   ],
   "source": [
    "# Comprobamos que la funcion se realiza correctamente\n",
    "print(informeCombustible(100, 50, 70))"
   ]
  },
  {
   "cell_type": "code",
   "execution_count": 18,
   "metadata": {},
   "outputs": [
    {
     "name": "stdout",
     "output_type": "stream",
     "text": [
      "73.33333333333333\n"
     ]
    }
   ],
   "source": [
    "# Declaramos una nueva funcion relacionada al calculo del promedio de gasolina\n",
    "def promedioTanqueCombustible(listaTanques):\n",
    "    cantidadGasolina = sum(listaTanques)\n",
    "    numeroTanques = len(listaTanques)\n",
    "    return cantidadGasolina/numeroTanques\n",
    "# Comprobamos el correcto funcionamiento de la funcion de promedio\n",
    "print(promedioTanqueCombustible([100, 70, 50]))"
   ]
  },
  {
   "cell_type": "code",
   "execution_count": 19,
   "metadata": {},
   "outputs": [
    {
     "name": "stdout",
     "output_type": "stream",
     "text": [
      "\n",
      "    Informe de los tanques: \n",
      "    Promedio de gasolina: 76.66666666666667%\n",
      "    Cantidad del tanque 1: 100%\n",
      "    Cantidad del tanque 2: 80%\n",
      "    Cantidad del tanque 3: 50%\n"
     ]
    }
   ],
   "source": [
    "# Realizamos una nueva funcion que incluya la funcion del calculo de promedio\n",
    "def nuevoInformeCombustible(tanque1, tanque2, tanque3):\n",
    "    return f\"\"\"\n",
    "    Informe de los tanques:\n",
    "    Promedio de gasolina: {promedioTanqueCombustible([tanque1, tanque2, tanque3])}%\n",
    "    Cantidad del tanque 1: {tanque1}%\n",
    "    Cantidad del tanque 2: {tanque2}%\n",
    "    Cantidad del tanque 3: {tanque3}%\"\"\"\n",
    "# Comprobamos que la nueva funcion este funcionando bien\n",
    "print(nuevoInformeCombustible(100,80,50))"
   ]
  },
  {
   "cell_type": "markdown",
   "metadata": {},
   "source": [
    "# Ejercicio 2: Trabajo con argumentos de palabra clave\n",
    "\n",
    "Construirás un informe de cohete que requiere varias piezas de información, como el tiempo hasta el destino, el combustible a la izquierda y el nombre del destino. Comienza por crear una función que creará un informe preciso de la misión:\n",
    "\n",
    "La función es problemática porque no se puede adaptar para minutos adicionales o tanques adicionales de combustible. Hazlo más flexible permitiendo cualquier número de pasos basados en el tiempo y cualquier número de tanques. En lugar de usar *args y **kwargs, aprovecha el hecho de que puedes usar cualquier nombre que desees. Asegurate que la función sea más legible mediante el uso de nombres de variables que están asociados con las entradas, como *minutes y **fuel_reservoirs:\n",
    "\n",
    "Debido a que el combustible que queda en los tanques es específico de cada tanque, actualiza la función para usar el nombre de cada tanque en el informe:"
   ]
  },
  {
   "cell_type": "code",
   "execution_count": 20,
   "metadata": {},
   "outputs": [
    {
     "name": "stdout",
     "output_type": "stream",
     "text": [
      "\n",
      "    Informe del cohete:\n",
      "    Destino: Moon\n",
      "    Tiempo de vuelo: 65 minutos\n",
      "    Cantidad de combustible de los tanques: 500000 galones\n"
     ]
    }
   ],
   "source": [
    "# Función con un informe preciso de la misión. Considera hora de prelanzamiento, tiempo de vuelo, destino, tanque externo y tanque interno\n",
    "def informeCoheteMision(tiempoPrelanzamiento, tiempoVuelo, destino, tanqueExterno, tanqueInterno):\n",
    "    return f\"\"\"\n",
    "    Informe del cohete:\n",
    "    Destino: {destino}\n",
    "    Tiempo de vuelo: {tiempoPrelanzamiento + tiempoVuelo} minutos\n",
    "    Cantidad de combustible de los tanques: {tanqueExterno + tanqueInterno} galones\"\"\"\n",
    "# Comprobamos que la funcion funcione bien\n",
    "print(informeCoheteMision(14, 51, \"Moon\", 200000, 300000))"
   ]
  },
  {
   "cell_type": "code",
   "execution_count": 26,
   "metadata": {},
   "outputs": [
    {
     "name": "stdout",
     "output_type": "stream",
     "text": [
      "\n",
      "    Informe del cohete para la mision:\n",
      "    Destino: Moon\n",
      "    Tiempo de vuelo: 76 minutos\n",
      "    Cantidad de combustible de los tanques: 500000 galones\n"
     ]
    }
   ],
   "source": [
    "# Definimos una funcion que sea capaz de aceptar una cantidad desconocida de un valor (Tiempo) y una cantidad de datos desconocida con palabras clave (tanques)\n",
    "def informeCoheteMisionActualizado(destino, *tiempoVuelo, **tanques):\n",
    "    return f\"\"\"\n",
    "    Informe del cohete para la mision:\n",
    "    Destino: {destino}\n",
    "    Tiempo de vuelo: {sum(tiempoVuelo)} minutos\n",
    "    Cantidad de combustible de los tanques: {sum(tanques.values())} galones\"\"\"\n",
    "# Comprobamos que la funcion actualizada se ejecute correctamente\n",
    "print(informeCoheteMisionActualizado(\"Moon\", 10, 15, 51, main=300000, external=200000))"
   ]
  },
  {
   "cell_type": "code",
   "execution_count": 30,
   "metadata": {},
   "outputs": [
    {
     "name": "stdout",
     "output_type": "stream",
     "text": [
      "\n",
      "    Informe del cohete de la mision:\n",
      "    Destino: Moon\n",
      "    Tiempo de vuelo: 74 minutos\n",
      "    Cantidad de combustible de los tanques: 500000 galones\n",
      "        El tanque principal tiene 300000 galones\n",
      "        El tanque externo tiene 200000 galones\n"
     ]
    }
   ],
   "source": [
    "# Definimos una nueva funcion donde sea capaz de generar un informe como el anterior pero que ademas agrege los tanques utilizados con sus respectivas cantidades de gasolina\n",
    "def nuevoInformeMision(destino, *tiempoVuelo, **tanquesCombustibles):\n",
    "    informe = f\"\"\"\n",
    "    Informe del cohete de la mision:\n",
    "    Destino: {destino}\n",
    "    Tiempo de vuelo: {sum(tiempoVuelo)} minutos\n",
    "    Cantidad de combustible de los tanques: {sum(tanquesCombustibles.values())} galones\"\"\"\n",
    "    for tanque,cantidad in tanquesCombustibles.items():\n",
    "        informe += f\"\"\"\n",
    "        El tanque {tanque} tiene {cantidad} galones\"\"\"\n",
    "    return informe\n",
    "# Comprobamos el correcto funcionamiento de la funcion\n",
    "print(nuevoInformeMision(\"Moon\", 8, 11, 55, principal=300000, externo=200000))"
   ]
  }
 ],
 "metadata": {
  "interpreter": {
   "hash": "8dfbc7356785231493384fb45409583ec31b5e29d809114613eef3ad3986fd8e"
  },
  "kernelspec": {
   "display_name": "Python 3.10.2 64-bit",
   "language": "python",
   "name": "python3"
  },
  "language_info": {
   "codemirror_mode": {
    "name": "ipython",
    "version": 3
   },
   "file_extension": ".py",
   "mimetype": "text/x-python",
   "name": "python",
   "nbconvert_exporter": "python",
   "pygments_lexer": "ipython3",
   "version": "3.10.2"
  },
  "orig_nbformat": 4
 },
 "nbformat": 4,
 "nbformat_minor": 2
}
